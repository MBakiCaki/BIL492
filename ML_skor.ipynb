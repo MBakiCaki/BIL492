{
  "nbformat": 4,
  "nbformat_minor": 0,
  "metadata": {
    "colab": {
      "provenance": []
    },
    "kernelspec": {
      "name": "python3",
      "display_name": "Python 3"
    },
    "language_info": {
      "name": "python"
    }
  },
  "cells": [
    {
      "cell_type": "markdown",
      "source": [
        "**Bu notebook, projede oluşturulan Klasik Makine Öğrenmesi modellerinin holdout(25-75) yöntemle testi ve skorların görselleştirilmesi için oluşturulmuştur.**"
      ],
      "metadata": {
        "id": "6uM3qzW5MhFX"
      }
    },
    {
      "cell_type": "markdown",
      "source": [
        "#Hazırlık"
      ],
      "metadata": {
        "id": "5MEjWEaDgwBH"
      }
    },
    {
      "cell_type": "markdown",
      "source": [
        "**Imports**"
      ],
      "metadata": {
        "id": "DISlV5ChFMF_"
      }
    },
    {
      "cell_type": "code",
      "execution_count": null,
      "metadata": {
        "id": "RIJugdLCE9k7",
        "colab": {
          "base_uri": "https://localhost:8080/"
        },
        "outputId": "b42bc2de-0c9d-4529-d7fd-9be9437b3fc9"
      },
      "outputs": [
        {
          "output_type": "stream",
          "name": "stderr",
          "text": [
            "/usr/local/lib/python3.8/dist-packages/torch/cuda/__init__.py:497: UserWarning: Can't initialize NVML\n",
            "  warnings.warn(\"Can't initialize NVML\")\n"
          ]
        }
      ],
      "source": [
        "import pandas as pd\n",
        "import numpy as np\n",
        "import matplotlib.pyplot as plt\n",
        "import seaborn as sns\n",
        "import re\n",
        "import spacy\n",
        "from nltk.stem import PorterStemmer\n",
        "\n",
        "from sklearn.model_selection import train_test_split\n",
        "from sklearn.feature_extraction.text import TfidfVectorizer\n",
        "from sklearn.neighbors import KNeighborsClassifier\n",
        "from sklearn.naive_bayes import MultinomialNB\n",
        "from sklearn.linear_model import LogisticRegression\n",
        "\n",
        "\n",
        "from sklearn.model_selection import KFold\n",
        "from sklearn.model_selection import cross_val_score, cross_val_predict\n",
        "\n",
        "from sklearn.model_selection import GridSearchCV\n",
        "\n",
        "from sklearn.pipeline import Pipeline\n",
        "from sklearn import metrics\n",
        "from sklearn.metrics import classification_report, confusion_matrix, ConfusionMatrixDisplay"
      ]
    },
    {
      "cell_type": "markdown",
      "source": [
        "**Load**"
      ],
      "metadata": {
        "id": "S5QGydobGPE5"
      }
    },
    {
      "cell_type": "code",
      "source": [
        "fake = pd.read_csv(\"/content/drive/MyDrive/Colab Notebooks/dataset/Fake.csv\")\n",
        "real = pd.read_csv(\"/content/drive/MyDrive/Colab Notebooks/dataset/True.csv\")"
      ],
      "metadata": {
        "id": "a_SwbHOMGQmv"
      },
      "execution_count": null,
      "outputs": []
    },
    {
      "cell_type": "markdown",
      "source": [
        "**PRE-PROCESSING**"
      ],
      "metadata": {
        "id": "OegNSwGYGWuU"
      }
    },
    {
      "cell_type": "markdown",
      "source": [
        "Helper Functions"
      ],
      "metadata": {
        "id": "WjeQpi2tGwqQ"
      }
    },
    {
      "cell_type": "code",
      "source": [
        "def clean(text):\n",
        "    text = re.sub('[^a-zA-Z-@]', ' ', text)\n",
        "    text = text.lower() #küçük harfe çevir\n",
        "    text = text.split()\n",
        "    text = ' '.join(text)\n",
        "    return text"
      ],
      "metadata": {
        "id": "zdTkicPjGsnE"
      },
      "execution_count": null,
      "outputs": []
    },
    {
      "cell_type": "code",
      "source": [
        "#stemmer\n",
        "ps = PorterStemmer()\n",
        "\n",
        "def stemmer(text):\n",
        "  text = text.split()\n",
        "  text = [ps.stem(word) for word in text]\n",
        "  text = ' '.join(text)\n",
        "  #text = ps.stem(text)\n",
        "  return text"
      ],
      "metadata": {
        "id": "zzbB7CdVGtNu"
      },
      "execution_count": null,
      "outputs": []
    },
    {
      "cell_type": "code",
      "source": [
        "#stopword remover\n",
        "nlp = spacy.blank('en')\n",
        "def stopword(text):\n",
        "    doc = nlp(text)\n",
        "    clean_text = [token.text for token in doc if not token.is_stop]\n",
        "    return \" \".join(clean_text) #convert array to string"
      ],
      "metadata": {
        "id": "5cbLwt8uQ-ai"
      },
      "execution_count": null,
      "outputs": []
    },
    {
      "cell_type": "markdown",
      "source": [
        "\n",
        "\n",
        "---\n",
        "\n"
      ],
      "metadata": {
        "id": "l4dl6ZYTG5pC"
      }
    },
    {
      "cell_type": "code",
      "source": [
        "real['label'] = 1\n",
        "fake['label'] = 0\n",
        "\n",
        "# remove prepended source from real news\n",
        "cleantext = []\n",
        "\n",
        "for item in real[\"text\"]:\n",
        "    text = item.partition(\" - \")\n",
        "    cleantext.append(text[2])\n",
        "real[\"text\"] = cleantext\n",
        "\n",
        "df = pd.concat([real,fake])\n",
        "df = df.sample(frac = 1, random_state=1) # SAMPLE SIZE\n",
        "\n",
        "#drop columns\n",
        "df = df.drop('title', axis=1)\n",
        "df = df.drop('subject', axis=1)\n",
        "df = df.drop('date', axis=1)\n",
        "\n",
        "#regex cleaning and lowercase\n",
        "df[\"text\"] = df[\"text\"].apply(clean)\n",
        "\n"
      ],
      "metadata": {
        "id": "PlxOLp-hGY8g"
      },
      "execution_count": null,
      "outputs": []
    },
    {
      "cell_type": "code",
      "source": [
        "#removing stopwords\n",
        "df['text'] = df['text'].apply(stopword)\n",
        "\n",
        "# #stemming\n",
        "df['stem'] = df['text'].apply(stemmer)\n",
        "\n",
        "# #lemmatizing\n",
        "# df['lemma'] = df['text'].apply(lemmatizer)"
      ],
      "metadata": {
        "id": "R02H_INrNqiT"
      },
      "execution_count": null,
      "outputs": []
    },
    {
      "cell_type": "code",
      "source": [
        "#specifying dependent and independent variables\n",
        "X = df['stem'] #text|stem|lemma\n",
        "y = df['label']"
      ],
      "metadata": {
        "id": "fgz-ccihtsA5"
      },
      "execution_count": null,
      "outputs": []
    },
    {
      "cell_type": "code",
      "source": [
        "df.head()"
      ],
      "metadata": {
        "colab": {
          "base_uri": "https://localhost:8080/",
          "height": 206
        },
        "id": "iLniRBw5LtD-",
        "outputId": "20922690-9d2f-4fc2-a798-8a3e2a56ebff"
      },
      "execution_count": null,
      "outputs": [
        {
          "output_type": "execute_result",
          "data": {
            "text/plain": [
              "                                                    text  label  \\\n",
              "4528   united states continue engaged international c...      1   \n",
              "10310  president trump tweeted new policy military co...      0   \n",
              "10937  u s republican presidential candidate donald t...      1   \n",
              "13470  kremlin said thursday confident united states ...      1   \n",
              "19397  kellyanne conway s response williams criticism...      0   \n",
              "\n",
              "                                                    stem  \n",
              "4528   unit state continu engag intern climat chang d...  \n",
              "10310  presid trump tweet new polici militari consult...  \n",
              "10937  u s republican presidenti candid donald trump ...  \n",
              "13470  kremlin said thursday confid unit state sancti...  \n",
              "19397  kellyann conway s respons william critic ve co...  "
            ],
            "text/html": [
              "\n",
              "  <div id=\"df-b6a54a52-68ea-4167-a973-19a5442ab0f3\">\n",
              "    <div class=\"colab-df-container\">\n",
              "      <div>\n",
              "<style scoped>\n",
              "    .dataframe tbody tr th:only-of-type {\n",
              "        vertical-align: middle;\n",
              "    }\n",
              "\n",
              "    .dataframe tbody tr th {\n",
              "        vertical-align: top;\n",
              "    }\n",
              "\n",
              "    .dataframe thead th {\n",
              "        text-align: right;\n",
              "    }\n",
              "</style>\n",
              "<table border=\"1\" class=\"dataframe\">\n",
              "  <thead>\n",
              "    <tr style=\"text-align: right;\">\n",
              "      <th></th>\n",
              "      <th>text</th>\n",
              "      <th>label</th>\n",
              "      <th>stem</th>\n",
              "    </tr>\n",
              "  </thead>\n",
              "  <tbody>\n",
              "    <tr>\n",
              "      <th>4528</th>\n",
              "      <td>united states continue engaged international c...</td>\n",
              "      <td>1</td>\n",
              "      <td>unit state continu engag intern climat chang d...</td>\n",
              "    </tr>\n",
              "    <tr>\n",
              "      <th>10310</th>\n",
              "      <td>president trump tweeted new policy military co...</td>\n",
              "      <td>0</td>\n",
              "      <td>presid trump tweet new polici militari consult...</td>\n",
              "    </tr>\n",
              "    <tr>\n",
              "      <th>10937</th>\n",
              "      <td>u s republican presidential candidate donald t...</td>\n",
              "      <td>1</td>\n",
              "      <td>u s republican presidenti candid donald trump ...</td>\n",
              "    </tr>\n",
              "    <tr>\n",
              "      <th>13470</th>\n",
              "      <td>kremlin said thursday confident united states ...</td>\n",
              "      <td>1</td>\n",
              "      <td>kremlin said thursday confid unit state sancti...</td>\n",
              "    </tr>\n",
              "    <tr>\n",
              "      <th>19397</th>\n",
              "      <td>kellyanne conway s response williams criticism...</td>\n",
              "      <td>0</td>\n",
              "      <td>kellyann conway s respons william critic ve co...</td>\n",
              "    </tr>\n",
              "  </tbody>\n",
              "</table>\n",
              "</div>\n",
              "      <button class=\"colab-df-convert\" onclick=\"convertToInteractive('df-b6a54a52-68ea-4167-a973-19a5442ab0f3')\"\n",
              "              title=\"Convert this dataframe to an interactive table.\"\n",
              "              style=\"display:none;\">\n",
              "        \n",
              "  <svg xmlns=\"http://www.w3.org/2000/svg\" height=\"24px\"viewBox=\"0 0 24 24\"\n",
              "       width=\"24px\">\n",
              "    <path d=\"M0 0h24v24H0V0z\" fill=\"none\"/>\n",
              "    <path d=\"M18.56 5.44l.94 2.06.94-2.06 2.06-.94-2.06-.94-.94-2.06-.94 2.06-2.06.94zm-11 1L8.5 8.5l.94-2.06 2.06-.94-2.06-.94L8.5 2.5l-.94 2.06-2.06.94zm10 10l.94 2.06.94-2.06 2.06-.94-2.06-.94-.94-2.06-.94 2.06-2.06.94z\"/><path d=\"M17.41 7.96l-1.37-1.37c-.4-.4-.92-.59-1.43-.59-.52 0-1.04.2-1.43.59L10.3 9.45l-7.72 7.72c-.78.78-.78 2.05 0 2.83L4 21.41c.39.39.9.59 1.41.59.51 0 1.02-.2 1.41-.59l7.78-7.78 2.81-2.81c.8-.78.8-2.07 0-2.86zM5.41 20L4 18.59l7.72-7.72 1.47 1.35L5.41 20z\"/>\n",
              "  </svg>\n",
              "      </button>\n",
              "      \n",
              "  <style>\n",
              "    .colab-df-container {\n",
              "      display:flex;\n",
              "      flex-wrap:wrap;\n",
              "      gap: 12px;\n",
              "    }\n",
              "\n",
              "    .colab-df-convert {\n",
              "      background-color: #E8F0FE;\n",
              "      border: none;\n",
              "      border-radius: 50%;\n",
              "      cursor: pointer;\n",
              "      display: none;\n",
              "      fill: #1967D2;\n",
              "      height: 32px;\n",
              "      padding: 0 0 0 0;\n",
              "      width: 32px;\n",
              "    }\n",
              "\n",
              "    .colab-df-convert:hover {\n",
              "      background-color: #E2EBFA;\n",
              "      box-shadow: 0px 1px 2px rgba(60, 64, 67, 0.3), 0px 1px 3px 1px rgba(60, 64, 67, 0.15);\n",
              "      fill: #174EA6;\n",
              "    }\n",
              "\n",
              "    [theme=dark] .colab-df-convert {\n",
              "      background-color: #3B4455;\n",
              "      fill: #D2E3FC;\n",
              "    }\n",
              "\n",
              "    [theme=dark] .colab-df-convert:hover {\n",
              "      background-color: #434B5C;\n",
              "      box-shadow: 0px 1px 3px 1px rgba(0, 0, 0, 0.15);\n",
              "      filter: drop-shadow(0px 1px 2px rgba(0, 0, 0, 0.3));\n",
              "      fill: #FFFFFF;\n",
              "    }\n",
              "  </style>\n",
              "\n",
              "      <script>\n",
              "        const buttonEl =\n",
              "          document.querySelector('#df-b6a54a52-68ea-4167-a973-19a5442ab0f3 button.colab-df-convert');\n",
              "        buttonEl.style.display =\n",
              "          google.colab.kernel.accessAllowed ? 'block' : 'none';\n",
              "\n",
              "        async function convertToInteractive(key) {\n",
              "          const element = document.querySelector('#df-b6a54a52-68ea-4167-a973-19a5442ab0f3');\n",
              "          const dataTable =\n",
              "            await google.colab.kernel.invokeFunction('convertToInteractive',\n",
              "                                                     [key], {});\n",
              "          if (!dataTable) return;\n",
              "\n",
              "          const docLinkHtml = 'Like what you see? Visit the ' +\n",
              "            '<a target=\"_blank\" href=https://colab.research.google.com/notebooks/data_table.ipynb>data table notebook</a>'\n",
              "            + ' to learn more about interactive tables.';\n",
              "          element.innerHTML = '';\n",
              "          dataTable['output_type'] = 'display_data';\n",
              "          await google.colab.output.renderOutput(dataTable, element);\n",
              "          const docLink = document.createElement('div');\n",
              "          docLink.innerHTML = docLinkHtml;\n",
              "          element.appendChild(docLink);\n",
              "        }\n",
              "      </script>\n",
              "    </div>\n",
              "  </div>\n",
              "  "
            ]
          },
          "metadata": {},
          "execution_count": 9
        }
      ]
    },
    {
      "cell_type": "code",
      "source": [
        "# testi verisini ayırma\n",
        "X_train, X_test, y_train, y_test = train_test_split(X, y, test_size = 0.25, random_state=1)"
      ],
      "metadata": {
        "id": "YT0aWKNxGs-N"
      },
      "execution_count": null,
      "outputs": []
    },
    {
      "cell_type": "markdown",
      "source": [
        "#MODEL SKORLARI"
      ],
      "metadata": {
        "id": "e2wUSLjxKb54"
      }
    },
    {
      "cell_type": "markdown",
      "source": [
        "KNN model"
      ],
      "metadata": {
        "id": "yrVwiq0UKXRr"
      }
    },
    {
      "cell_type": "code",
      "source": [
        "clf = Pipeline([\n",
        "    ('vectorizer', TfidfVectorizer()),\n",
        "    ('knn',KNeighborsClassifier(n_neighbors=1))\n",
        "])\n",
        "clf.fit(X_train, y_train)\n",
        "y_pred = clf.predict(X_test)"
      ],
      "metadata": {
        "id": "iUOe2R3EJuhp"
      },
      "execution_count": null,
      "outputs": []
    },
    {
      "cell_type": "code",
      "source": [
        "print(classification_report(y_test, y_pred, digits =3))\n",
        "disp = metrics.ConfusionMatrixDisplay(metrics.confusion_matrix(y_test, y_pred))\n",
        "disp.plot()\n",
        "plt.show()"
      ],
      "metadata": {
        "colab": {
          "base_uri": "https://localhost:8080/",
          "height": 435
        },
        "id": "jv19lbq_cFk-",
        "outputId": "f93ecf45-e9a3-468e-cdaf-c13cf26d2b30"
      },
      "execution_count": null,
      "outputs": [
        {
          "output_type": "stream",
          "name": "stdout",
          "text": [
            "              precision    recall  f1-score   support\n",
            "\n",
            "           0      0.728     0.952     0.825      5773\n",
            "           1      0.925     0.624     0.745      5452\n",
            "\n",
            "    accuracy                          0.793     11225\n",
            "   macro avg      0.827     0.788     0.785     11225\n",
            "weighted avg      0.824     0.793     0.786     11225\n",
            "\n"
          ]
        },
        {
          "output_type": "display_data",
          "data": {
            "text/plain": [
              "<Figure size 432x288 with 2 Axes>"
            ],
            "image/png": "[encoded data removed]"
          },
          "metadata": {
            "needs_background": "light"
          }
        }
      ]
    },
    {
      "cell_type": "markdown",
      "source": [
        "Bayes Model"
      ],
      "metadata": {
        "id": "L-OWDcpVKZT1"
      }
    },
    {
      "cell_type": "code",
      "source": [
        "clf = Pipeline([\n",
        "    ('vectorizer', TfidfVectorizer()),\n",
        "    ('mnb',MultinomialNB())\n",
        "])\n",
        "clf.fit(X_train, y_train)\n",
        "y_pred = clf.predict(X_test)"
      ],
      "metadata": {
        "id": "iz1QJ5zHK16k"
      },
      "execution_count": null,
      "outputs": []
    },
    {
      "cell_type": "code",
      "source": [
        "print(classification_report(y_test, y_pred, digits =3))\n",
        "disp = metrics.ConfusionMatrixDisplay(metrics.confusion_matrix(y_test, y_pred))\n",
        "disp.plot()\n",
        "plt.show()"
      ],
      "metadata": {
        "colab": {
          "base_uri": "https://localhost:8080/",
          "height": 435
        },
        "id": "YmLOAu-vfrJW",
        "outputId": "73591eb3-6081-4f6f-9d37-aa54e6abfabf"
      },
      "execution_count": null,
      "outputs": [
        {
          "output_type": "stream",
          "name": "stdout",
          "text": [
            "              precision    recall  f1-score   support\n",
            "\n",
            "           0      0.914     0.938     0.926      5773\n",
            "           1      0.933     0.907     0.920      5452\n",
            "\n",
            "    accuracy                          0.923     11225\n",
            "   macro avg      0.923     0.922     0.923     11225\n",
            "weighted avg      0.923     0.923     0.923     11225\n",
            "\n"
          ]
        },
        {
          "output_type": "display_data",
          "data": {
            "text/plain": [
              "<Figure size 432x288 with 2 Axes>"
            ],
            "image/png": "[encoded data removed]"
          },
          "metadata": {
            "needs_background": "light"
          }
        }
      ]
    },
    {
      "cell_type": "markdown",
      "source": [
        "Logistic Regression Model"
      ],
      "metadata": {
        "id": "7wGH2KJgLLe9"
      }
    },
    {
      "cell_type": "code",
      "source": [
        "clf = Pipeline([\n",
        "    ('vectorizer', TfidfVectorizer()),\n",
        "    ('lr',LogisticRegression())\n",
        "])\n",
        "clf.fit(X_train, y_train)\n",
        "y_pred = clf.predict(X_test)"
      ],
      "metadata": {
        "id": "HlF2UuBELOBJ"
      },
      "execution_count": null,
      "outputs": []
    },
    {
      "cell_type": "code",
      "source": [
        "print(classification_report(y_test, y_pred, digits =3))\n",
        "disp = metrics.ConfusionMatrixDisplay(metrics.confusion_matrix(y_test, y_pred))\n",
        "disp.plot()\n",
        "plt.show()"
      ],
      "metadata": {
        "colab": {
          "base_uri": "https://localhost:8080/",
          "height": 435
        },
        "id": "JTl4lfU1f8pp",
        "outputId": "34c89460-a91a-45ad-9383-737fbd99a5da"
      },
      "execution_count": null,
      "outputs": [
        {
          "output_type": "stream",
          "name": "stdout",
          "text": [
            "              precision    recall  f1-score   support\n",
            "\n",
            "           0      0.975     0.975     0.975      5773\n",
            "           1      0.973     0.974     0.973      5452\n",
            "\n",
            "    accuracy                          0.974     11225\n",
            "   macro avg      0.974     0.974     0.974     11225\n",
            "weighted avg      0.974     0.974     0.974     11225\n",
            "\n"
          ]
        },
        {
          "output_type": "display_data",
          "data": {
            "text/plain": [
              "<Figure size 432x288 with 2 Axes>"
            ],
            "image/png": "[encoded data removed]"
          },
          "metadata": {
            "needs_background": "light"
          }
        }
      ]
    }
  ]
}