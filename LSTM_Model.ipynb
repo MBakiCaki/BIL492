{
  "cells": [
    {
      "cell_type": "code",
      "execution_count": null,
      "metadata": {
        "colab": {
          "base_uri": "https://localhost:8080/"
        },
        "id": "-2dSv3HlSh92",
        "outputId": "374c09f9-6828-471f-c461-92d816baf0be"
      },
      "outputs": [
        {
          "name": "stderr",
          "output_type": "stream",
          "text": [
            "[nltk_data] Downloading package stopwords to /root/nltk_data...\n",
            "[nltk_data]   Package stopwords is already up-to-date!\n"
          ]
        }
      ],
      "source": [
        "import sklearn\n",
        "import re\n",
        "import pandas as pd\n",
        "import numpy as np\n",
        "import matplotlib.pyplot as plt\n",
        "import nltk\n",
        "from nltk.corpus import stopwords\n",
        "from nltk.stem.porter import PorterStemmer\n",
        "from sklearn.model_selection import train_test_split\n",
        "from gensim.models import Word2Vec\n",
        "\n",
        "import tensorflow as tf\n",
        "from tensorflow.keras.preprocessing.text import Tokenizer\n",
        "from tensorflow.keras.preprocessing.sequence import pad_sequences\n",
        "\n",
        "nltk.download('stopwords')\n",
        "ps = PorterStemmer()\n",
        "\n",
        "from tensorflow.keras.layers import Embedding\n",
        "from tensorflow.keras.preprocessing.sequence import pad_sequences\n",
        "from tensorflow.keras.models import Sequential\n",
        "from tensorflow.keras.preprocessing.text import one_hot\n",
        "from tensorflow.keras.layers import LSTM\n",
        "from tensorflow.keras.layers import Dense\n",
        "from tensorflow.keras.layers import Dropout\n",
        "\n",
        "from sklearn.metrics import accuracy_score\n",
        "from sklearn.metrics import classification_report\n",
        "from sklearn.metrics import confusion_matrix,ConfusionMatrixDisplay"
      ]
    },
    {
      "cell_type": "code",
      "execution_count": null,
      "metadata": {
        "id": "6Rhj-OguSshP"
      },
      "outputs": [],
      "source": [
        "fake = pd.read_csv(\"/content/drive/MyDrive/Colab Notebooks/dataset/Fake.csv\")\n",
        "real = pd.read_csv(\"/content/drive/MyDrive/Colab Notebooks/dataset/True.csv\")"
      ]
    },
    {
      "cell_type": "code",
      "execution_count": null,
      "metadata": {
        "colab": {
          "base_uri": "https://localhost:8080/"
        },
        "id": "ORxsYRdcS0YY",
        "outputId": "99ef300b-687e-47bd-98eb-7ebb1c573874"
      },
      "outputs": [
        {
          "data": {
            "text/plain": [
              "224490"
            ]
          },
          "execution_count": 3,
          "metadata": {},
          "output_type": "execute_result"
        }
      ],
      "source": [
        "real['label'] = 1\n",
        "fake['label'] = 0\n",
        "\n",
        "# remove prepended source from real news\n",
        "cleantext = []\n",
        "\n",
        "for item in real[\"text\"]:\n",
        "    text = item.partition(\" - \")\n",
        "    cleantext.append(text[2])\n",
        "real[\"text\"] = cleantext\n",
        "\n",
        "df = pd.concat([real,fake])\n",
        "df.size"
      ]
    },
    {
      "cell_type": "code",
      "execution_count": null,
      "metadata": {
        "colab": {
          "base_uri": "https://localhost:8080/"
        },
        "id": "4-qUTk7ES5on",
        "outputId": "6f5dde28-c5fa-4934-a04b-a3633f7debd5"
      },
      "outputs": [
        {
          "data": {
            "text/plain": [
              "title      44898\n",
              "text       44898\n",
              "subject    44898\n",
              "date       44898\n",
              "label      44898\n",
              "dtype: int64"
            ]
          },
          "execution_count": 4,
          "metadata": {},
          "output_type": "execute_result"
        }
      ],
      "source": [
        "df = df.sample(frac = 1, random_state=1)\n",
        "df.count()"
      ]
    },
    {
      "cell_type": "code",
      "execution_count": null,
      "metadata": {
        "colab": {
          "base_uri": "https://localhost:8080/",
          "height": 206
        },
        "id": "R4qNf7zmTAeV",
        "outputId": "af48fd41-6989-4b43-91d1-bef74470376e"
      },
      "outputs": [
        {
          "data": {
            "text/html": [
              "\n",
              "  <div id=\"df-a236fdf7-633e-4b32-a95a-59ec2ee3806f\">\n",
              "    <div class=\"colab-df-container\">\n",
              "      <div>\n",
              "<style scoped>\n",
              "    .dataframe tbody tr th:only-of-type {\n",
              "        vertical-align: middle;\n",
              "    }\n",
              "\n",
              "    .dataframe tbody tr th {\n",
              "        vertical-align: top;\n",
              "    }\n",
              "\n",
              "    .dataframe thead th {\n",
              "        text-align: right;\n",
              "    }\n",
              "</style>\n",
              "<table border=\"1\" class=\"dataframe\">\n",
              "  <thead>\n",
              "    <tr style=\"text-align: right;\">\n",
              "      <th></th>\n",
              "      <th>text</th>\n",
              "      <th>label</th>\n",
              "    </tr>\n",
              "  </thead>\n",
              "  <tbody>\n",
              "    <tr>\n",
              "      <th>4528</th>\n",
              "      <td>The United States should continue to be “engag...</td>\n",
              "      <td>1</td>\n",
              "    </tr>\n",
              "    <tr>\n",
              "      <th>10310</th>\n",
              "      <td>President Trump just tweeted out a new policy ...</td>\n",
              "      <td>0</td>\n",
              "    </tr>\n",
              "    <tr>\n",
              "      <th>10937</th>\n",
              "      <td>U.S. Republican presidential candidate Donald ...</td>\n",
              "      <td>1</td>\n",
              "    </tr>\n",
              "    <tr>\n",
              "      <th>13470</th>\n",
              "      <td>The Kremlin said on Thursday it was confident ...</td>\n",
              "      <td>1</td>\n",
              "    </tr>\n",
              "    <tr>\n",
              "      <th>19397</th>\n",
              "      <td>Kellyanne Conway s response to Williams  criti...</td>\n",
              "      <td>0</td>\n",
              "    </tr>\n",
              "  </tbody>\n",
              "</table>\n",
              "</div>\n",
              "      <button class=\"colab-df-convert\" onclick=\"convertToInteractive('df-a236fdf7-633e-4b32-a95a-59ec2ee3806f')\"\n",
              "              title=\"Convert this dataframe to an interactive table.\"\n",
              "              style=\"display:none;\">\n",
              "        \n",
              "  <svg xmlns=\"http://www.w3.org/2000/svg\" height=\"24px\"viewBox=\"0 0 24 24\"\n",
              "       width=\"24px\">\n",
              "    <path d=\"M0 0h24v24H0V0z\" fill=\"none\"/>\n",
              "    <path d=\"M18.56 5.44l.94 2.06.94-2.06 2.06-.94-2.06-.94-.94-2.06-.94 2.06-2.06.94zm-11 1L8.5 8.5l.94-2.06 2.06-.94-2.06-.94L8.5 2.5l-.94 2.06-2.06.94zm10 10l.94 2.06.94-2.06 2.06-.94-2.06-.94-.94-2.06-.94 2.06-2.06.94z\"/><path d=\"M17.41 7.96l-1.37-1.37c-.4-.4-.92-.59-1.43-.59-.52 0-1.04.2-1.43.59L10.3 9.45l-7.72 7.72c-.78.78-.78 2.05 0 2.83L4 21.41c.39.39.9.59 1.41.59.51 0 1.02-.2 1.41-.59l7.78-7.78 2.81-2.81c.8-.78.8-2.07 0-2.86zM5.41 20L4 18.59l7.72-7.72 1.47 1.35L5.41 20z\"/>\n",
              "  </svg>\n",
              "      </button>\n",
              "      \n",
              "  <style>\n",
              "    .colab-df-container {\n",
              "      display:flex;\n",
              "      flex-wrap:wrap;\n",
              "      gap: 12px;\n",
              "    }\n",
              "\n",
              "    .colab-df-convert {\n",
              "      background-color: #E8F0FE;\n",
              "      border: none;\n",
              "      border-radius: 50%;\n",
              "      cursor: pointer;\n",
              "      display: none;\n",
              "      fill: #1967D2;\n",
              "      height: 32px;\n",
              "      padding: 0 0 0 0;\n",
              "      width: 32px;\n",
              "    }\n",
              "\n",
              "    .colab-df-convert:hover {\n",
              "      background-color: #E2EBFA;\n",
              "      box-shadow: 0px 1px 2px rgba(60, 64, 67, 0.3), 0px 1px 3px 1px rgba(60, 64, 67, 0.15);\n",
              "      fill: #174EA6;\n",
              "    }\n",
              "\n",
              "    [theme=dark] .colab-df-convert {\n",
              "      background-color: #3B4455;\n",
              "      fill: #D2E3FC;\n",
              "    }\n",
              "\n",
              "    [theme=dark] .colab-df-convert:hover {\n",
              "      background-color: #434B5C;\n",
              "      box-shadow: 0px 1px 3px 1px rgba(0, 0, 0, 0.15);\n",
              "      filter: drop-shadow(0px 1px 2px rgba(0, 0, 0, 0.3));\n",
              "      fill: #FFFFFF;\n",
              "    }\n",
              "  </style>\n",
              "\n",
              "      <script>\n",
              "        const buttonEl =\n",
              "          document.querySelector('#df-a236fdf7-633e-4b32-a95a-59ec2ee3806f button.colab-df-convert');\n",
              "        buttonEl.style.display =\n",
              "          google.colab.kernel.accessAllowed ? 'block' : 'none';\n",
              "\n",
              "        async function convertToInteractive(key) {\n",
              "          const element = document.querySelector('#df-a236fdf7-633e-4b32-a95a-59ec2ee3806f');\n",
              "          const dataTable =\n",
              "            await google.colab.kernel.invokeFunction('convertToInteractive',\n",
              "                                                     [key], {});\n",
              "          if (!dataTable) return;\n",
              "\n",
              "          const docLinkHtml = 'Like what you see? Visit the ' +\n",
              "            '<a target=\"_blank\" href=https://colab.research.google.com/notebooks/data_table.ipynb>data table notebook</a>'\n",
              "            + ' to learn more about interactive tables.';\n",
              "          element.innerHTML = '';\n",
              "          dataTable['output_type'] = 'display_data';\n",
              "          await google.colab.output.renderOutput(dataTable, element);\n",
              "          const docLink = document.createElement('div');\n",
              "          docLink.innerHTML = docLinkHtml;\n",
              "          element.appendChild(docLink);\n",
              "        }\n",
              "      </script>\n",
              "    </div>\n",
              "  </div>\n",
              "  "
            ],
            "text/plain": [
              "                                                    text  label\n",
              "4528   The United States should continue to be “engag...      1\n",
              "10310  President Trump just tweeted out a new policy ...      0\n",
              "10937  U.S. Republican presidential candidate Donald ...      1\n",
              "13470  The Kremlin said on Thursday it was confident ...      1\n",
              "19397  Kellyanne Conway s response to Williams  criti...      0"
            ]
          },
          "execution_count": 5,
          "metadata": {},
          "output_type": "execute_result"
        }
      ],
      "source": [
        "#drop columns\n",
        "df = df.drop('title', axis=1)\n",
        "df = df.drop('subject', axis=1)\n",
        "df = df.drop('date', axis=1)\n",
        "df.head()"
      ]
    },
    {
      "cell_type": "code",
      "execution_count": null,
      "metadata": {
        "id": "dMPHO0tuYTqJ"
      },
      "outputs": [],
      "source": [
        "df.reset_index(inplace = True)"
      ]
    },
    {
      "cell_type": "code",
      "execution_count": null,
      "metadata": {
        "colab": {
          "base_uri": "https://localhost:8080/",
          "height": 91
        },
        "id": "tFrD5GBVW3Au",
        "outputId": "f02d752a-1ebc-49ed-e3cb-3d41149aa5e3"
      },
      "outputs": [
        {
          "data": {
            "application/vnd.google.colaboratory.intrinsic+json": {
              "type": "string"
            },
            "text/plain": [
              "'U.S. Republican presidential candidate Donald Trump said he does not have to win the New Hampshire primary vote on Tuesday to secure the nomination, apparently tamping down expectations despite holding a double-digit lead in that state’s polls.     The billionaire businessman came in second to Texas Senator Ted Cruz in the Iowa caucuses last week, although polls put him ahead. His candidacy has alarmed the Republican establishment and has been marked by rows, including over his calls for a temporary ban on Muslims entering the United States. No Republican has won the presidential nomination without winning either the Iowa caucuses or the New Hampshire primary since the 1970s, but it would not technically be impossible.  Asked whether a loss in New Hampshire would derail his campaign, Trump told the NBC News show “Meet the Press”: “I don’t think I need it. I hope that I get it.”  “I would like to win but I don’t know that it is necessary.”    Recent opinion polls give him a lead of between 10 and 22 percentage points over the next closest contender.  Trump has built his campaign in part around his self-declared reputation as a “winner,” and a loss in New Hampshire would intensify doubts that he can translate opinion poll support into votes. He also told “Meet the Press” that he has spent as much as $50 million less than expected on the campaign so far, in part because the media provides him so much free publicity. “People like you put me on. What do I take a commercial for?” Trump told the show’s moderator, Chuck Todd. (This story has been refiled to restore dropped word “in” in 2nd paragraph; restores quotation marks to “Meet the Press” in paragraphs 4 and 8)  (Reporting by Howard Schneider; Editing by Louise Ireland) SAP is the sponsor of this content. It was independently created by Reuters’ editorial staff and funded in part by SAP, which otherwise has no role in this coverage.'"
            ]
          },
          "execution_count": 9,
          "metadata": {},
          "output_type": "execute_result"
        }
      ],
      "source": [
        "df['text'][2]"
      ]
    },
    {
      "cell_type": "code",
      "execution_count": null,
      "metadata": {
        "colab": {
          "base_uri": "https://localhost:8080/"
        },
        "id": "bIY2yshmWWLU",
        "outputId": "c4e6e8c6-28e4-4ef6-daf5-10b2fbba9052"
      },
      "outputs": [
        {
          "data": {
            "text/plain": [
              "44898"
            ]
          },
          "execution_count": 10,
          "metadata": {},
          "output_type": "execute_result"
        }
      ],
      "source": [
        "len(df)"
      ]
    },
    {
      "cell_type": "code",
      "execution_count": null,
      "metadata": {
        "id": "VYH9c1VvZaGd"
      },
      "outputs": [],
      "source": [
        "len_messages = len(df['text'])"
      ]
    },
    {
      "cell_type": "code",
      "execution_count": null,
      "metadata": {
        "colab": {
          "background_save": true
        },
        "id": "CjrESrLuVz-4"
      },
      "outputs": [],
      "source": [
        "corpus =[]\n",
        "for i in range(len_messages):\n",
        "    # print(i)\n",
        "    text = re.sub('[^a-zA-Z-@]', ' ', df['text'][i])\n",
        "    text = text.lower() #küçük harfe çevir\n",
        "    text = text.split()\n",
        "    text = [ps.stem(word) for word in text if not word in stopwords.words('english')]\n",
        "    text = ' '.join(text)\n",
        "    corpus.append(text)"
      ]
    },
    {
      "cell_type": "code",
      "execution_count": null,
      "metadata": {
        "colab": {
          "background_save": true
        },
        "id": "zy56GJF1afuv",
        "outputId": "a96ea060-f9e6-4269-9a64-bc83b351019c"
      },
      "outputs": [
        {
          "data": {
            "application/vnd.google.colaboratory.intrinsic+json": {
              "type": "string"
            },
            "text/plain": [
              "'presid trump tweet new polici us militari made consult militari expert gener trump made announc would repres major shift militari polici twitter said made decis consult gener militari expert consult gener militari expert pleas advis unit state govern accept allow transgend individu serv capac u militari trump tweet militari must focus decis overwhelm victori cannot burden tremend medic cost disrupt transgend militari would entail thank'"
            ]
          },
          "execution_count": 13,
          "metadata": {},
          "output_type": "execute_result"
        }
      ],
      "source": [
        "corpus[1]"
      ]
    },
    {
      "cell_type": "code",
      "execution_count": null,
      "metadata": {
        "colab": {
          "background_save": true
        },
        "id": "qqGcmsBLHmIt"
      },
      "outputs": [],
      "source": [
        "X = corpus\n",
        "y = df['label']"
      ]
    },
    {
      "cell_type": "code",
      "execution_count": null,
      "metadata": {
        "colab": {
          "background_save": true
        },
        "id": "_UOpGfYfjCVx"
      },
      "outputs": [],
      "source": [
        "# SPLIT\n",
        "X_train, X_test, y_train, y_test = train_test_split(X, y, test_size=0.25, random_state=1)"
      ]
    },
    {
      "cell_type": "code",
      "execution_count": null,
      "metadata": {
        "colab": {
          "background_save": true
        },
        "id": "TQnuzbEg7ot3",
        "outputId": "b43f5424-165f-473c-f54d-46fa199f73b8"
      },
      "outputs": [
        {
          "data": {
            "application/vnd.google.colaboratory.intrinsic+json": {
              "type": "string"
            },
            "text/plain": [
              "'u republican presidenti candid donald trump said win new hampshir primari vote tuesday secur nomin appar tamp expect despit hold double-digit lead state poll billionair businessman came second texa senat ted cruz iowa caucus last week although poll put ahead candidaci alarm republican establish mark row includ call temporari ban muslim enter unit state republican presidenti nomin without win either iowa caucus new hampshir primari sinc would technic imposs ask whether loss new hampshir would derail campaign trump told nbc news show meet press think need hope get would like win know necessari recent opinion poll give lead percentag point next closest contend trump built campaign part around self-declar reput winner loss new hampshir would intensifi doubt translat opinion poll support vote also told meet press spent much million less expect campaign far part media provid much free public peopl like put take commerci trump told show moder chuck todd stori refil restor drop word nd paragraph restor quotat mark meet press paragraph report howard schneider edit louis ireland sap sponsor content independ creat reuter editori staff fund part sap otherwis role coverag'"
            ]
          },
          "execution_count": 16,
          "metadata": {},
          "output_type": "execute_result"
        }
      ],
      "source": [
        "corpus[2]"
      ]
    },
    {
      "cell_type": "code",
      "execution_count": null,
      "metadata": {
        "colab": {
          "background_save": true
        },
        "id": "sbVh8qpeIx_M"
      },
      "outputs": [],
      "source": [
        "EMBEDDING_DIM = 200\n",
        "w2v_train = list(map(lambda x: x.split(), X_train))\n",
        "w2v_model = Word2Vec(sentences=w2v_train, size=EMBEDDING_DIM, window=5, workers = 4, min_count=5)"
      ]
    },
    {
      "cell_type": "code",
      "execution_count": null,
      "metadata": {
        "colab": {
          "background_save": true
        },
        "id": "bS06lU6zJtwa",
        "outputId": "8709e8ff-0e4b-41b9-ec82-e449f5b60a6c"
      },
      "outputs": [
        {
          "data": {
            "text/plain": [
              "29610"
            ]
          },
          "execution_count": 20,
          "metadata": {},
          "output_type": "execute_result"
        }
      ],
      "source": [
        "len(w2v_model.wv.vocab)"
      ]
    },
    {
      "cell_type": "code",
      "execution_count": null,
      "metadata": {
        "colab": {
          "background_save": true
        },
        "id": "p-6-htgyO23g",
        "outputId": "29e6d0ad-f8d5-425c-cc29-17d89ab81968"
      },
      "outputs": [
        {
          "data": {
            "text/plain": [
              "33673"
            ]
          },
          "execution_count": 24,
          "metadata": {},
          "output_type": "execute_result"
        }
      ],
      "source": [
        "len(X_train)"
      ]
    },
    {
      "cell_type": "code",
      "execution_count": null,
      "metadata": {
        "colab": {
          "background_save": true
        },
        "id": "we51N3rooKD7",
        "outputId": "ead3a392-1fc8-4aef-df71-f6b15eb03b51"
      },
      "outputs": [
        {
          "data": {
            "text/plain": [
              "list"
            ]
          },
          "execution_count": 25,
          "metadata": {},
          "output_type": "execute_result"
        }
      ],
      "source": [
        "type(corpus)"
      ]
    },
    {
      "cell_type": "code",
      "execution_count": null,
      "metadata": {
        "colab": {
          "background_save": true
        },
        "id": "TuSACpfyQl1z",
        "outputId": "ff43e933-5e54-4806-dd49-072923f0a126"
      },
      "outputs": [
        {
          "name": "stdout",
          "output_type": "stream",
          "text": [
            "Tokenizer vocab length: 50000\n"
          ]
        }
      ],
      "source": [
        "vocab_length = 50_000\n",
        "tokenizer = Tokenizer(filters=\"\", lower=False, oov_token=\"<oov>\")\n",
        "tokenizer.fit_on_texts(X_train)\n",
        "tokenizer.num_words = vocab_length\n",
        "print(\"Tokenizer vocab length:\", vocab_length)"
      ]
    },
    {
      "cell_type": "code",
      "execution_count": null,
      "metadata": {
        "colab": {
          "background_save": true
        },
        "id": "lcXyQA5KPgOR",
        "outputId": "3436e54b-051e-46b7-8594-9ccaa2c15e38"
      },
      "outputs": [
        {
          "name": "stdout",
          "output_type": "stream",
          "text": [
            "97381\n"
          ]
        }
      ],
      "source": [
        "input_len = 1000\n",
        "\n",
        "X_train = pad_sequences(tokenizer.texts_to_sequences(X_train), maxlen=input_len)\n",
        "X_test  = pad_sequences(tokenizer.texts_to_sequences(X_test) , maxlen=input_len)"
      ]
    },
    {
      "cell_type": "code",
      "execution_count": null,
      "metadata": {
        "colab": {
          "background_save": true
        },
        "id": "sHK7SeCWROo8",
        "outputId": "54d7b9f9-cea0-4951-a605-5f2d4de41df2"
      },
      "outputs": [
        {
          "name": "stdout",
          "output_type": "stream",
          "text": [
            "X_train.shape: (33673, 1000)\n",
            "X_test.shape : (11225, 1000)\n"
          ]
        }
      ],
      "source": [
        "print(\"X_train.shape:\", X_train.shape)\n",
        "print(\"X_test.shape :\", X_test.shape)"
      ]
    },
    {
      "cell_type": "code",
      "execution_count": null,
      "metadata": {
        "colab": {
          "background_save": true
        },
        "id": "m4x_cYCLR8Fk",
        "outputId": "e0bdc9bc-9260-43b8-bed7-8d2a2da5ca65"
      },
      "outputs": [
        {
          "name": "stdout",
          "output_type": "stream",
          "text": [
            "Embedding Matrix Shape: (50000, 200)\n"
          ]
        }
      ],
      "source": [
        "embedding_matrix = np.zeros((vocab_length, EMBEDDING_DIM))\n",
        "\n",
        "for word, token in tokenizer.word_index.items():\n",
        "    if w2v_model.wv.__contains__(word):\n",
        "        embedding_matrix[token] = w2v_model.wv.__getitem__(word)\n",
        "\n",
        "print(\"Embedding Matrix Shape:\", embedding_matrix.shape)"
      ]
    },
    {
      "cell_type": "markdown",
      "metadata": {
        "id": "T4zuuipTSgRk"
      },
      "source": [
        "**MODEL OLUŞTURMA**"
      ]
    },
    {
      "cell_type": "code",
      "execution_count": null,
      "metadata": {
        "colab": {
          "base_uri": "https://localhost:8080/"
        },
        "id": "x1nETHUBgFYW",
        "outputId": "6890ac27-a8e4-4621-dfee-0d6e93343f08"
      },
      "outputs": [
        {
          "output_type": "execute_result",
          "data": {
            "text/plain": [
              "(33673, 1000)"
            ]
          },
          "metadata": {},
          "execution_count": 44
        }
      ],
      "source": [
        "X_train.shape"
      ]
    },
    {
      "cell_type": "code",
      "execution_count": null,
      "metadata": {
        "colab": {
          "base_uri": "https://localhost:8080/"
        },
        "id": "DK8ZYpwYTS4C",
        "outputId": "498b8dc4-b76c-41b1-c915-79e87619c167"
      },
      "outputs": [
        {
          "output_type": "stream",
          "name": "stdout",
          "text": [
            "Model: \"sequential_1\"\n",
            "_________________________________________________________________\n",
            " Layer (type)                Output Shape              Param #   \n",
            "=================================================================\n",
            " embedding_1 (Embedding)     (None, 1000, 200)         10000000  \n",
            "                                                                 \n",
            " lstm_1 (LSTM)               (None, 100)               120400    \n",
            "                                                                 \n",
            " dense_1 (Dense)             (None, 1)                 101       \n",
            "                                                                 \n",
            "=================================================================\n",
            "Total params: 10,120,501\n",
            "Trainable params: 120,501\n",
            "Non-trainable params: 10,000,000\n",
            "_________________________________________________________________\n",
            "None\n"
          ]
        }
      ],
      "source": [
        "model=Sequential()\n",
        "model.add(Embedding(input_dim = vocab_length,#\n",
        "                    output_dim = EMBEDDING_DIM,#\n",
        "                    weights = [embedding_matrix],\n",
        "                    input_length = input_len,\n",
        "                    trainable = False))\n",
        "model.add(LSTM(100, dropout=0.2)) # lstm neuron size\n",
        "model.add(Dense(1,activation='sigmoid')) # dense layer, activation function\n",
        "model.compile(loss='binary_crossentropy',optimizer='adam', metrics=['accuracy'])\n",
        "print(model.summary())"
      ]
    },
    {
      "cell_type": "code",
      "execution_count": null,
      "metadata": {
        "id": "hz44j3OKVjwW",
        "colab": {
          "base_uri": "https://localhost:8080/"
        },
        "outputId": "2329e5d3-6331-49af-8348-e059801d1767"
      },
      "outputs": [
        {
          "output_type": "stream",
          "name": "stdout",
          "text": [
            "Epoch 1/10\n",
            "421/421 [==============================] - 861s 2s/step - loss: 0.1541 - accuracy: 0.9459 - val_loss: 0.0968 - val_accuracy: 0.9705\n",
            "Epoch 2/10\n",
            "421/421 [==============================] - 868s 2s/step - loss: 0.1025 - accuracy: 0.9666 - val_loss: 0.0925 - val_accuracy: 0.9740\n",
            "Epoch 3/10\n",
            "421/421 [==============================] - 861s 2s/step - loss: 0.0699 - accuracy: 0.9789 - val_loss: 0.0628 - val_accuracy: 0.9808\n",
            "Epoch 4/10\n",
            "421/421 [==============================] - 863s 2s/step - loss: 0.0679 - accuracy: 0.9758 - val_loss: 0.0490 - val_accuracy: 0.9843\n",
            "Epoch 5/10\n",
            "421/421 [==============================] - 880s 2s/step - loss: 0.0460 - accuracy: 0.9857 - val_loss: 0.0382 - val_accuracy: 0.9884\n",
            "Epoch 6/10\n",
            "421/421 [==============================] - 872s 2s/step - loss: 0.0288 - accuracy: 0.9908 - val_loss: 0.0336 - val_accuracy: 0.9908\n",
            "Epoch 7/10\n",
            "421/421 [==============================] - 871s 2s/step - loss: 0.0203 - accuracy: 0.9935 - val_loss: 0.0259 - val_accuracy: 0.9926\n",
            "Epoch 8/10\n",
            "421/421 [==============================] - 882s 2s/step - loss: 0.0150 - accuracy: 0.9956 - val_loss: 0.0255 - val_accuracy: 0.9930\n",
            "Epoch 9/10\n",
            "421/421 [==============================] - 874s 2s/step - loss: 0.0121 - accuracy: 0.9965 - val_loss: 0.0255 - val_accuracy: 0.9927\n",
            "Epoch 10/10\n",
            "421/421 [==============================] - 873s 2s/step - loss: 0.0102 - accuracy: 0.9972 - val_loss: 0.0270 - val_accuracy: 0.9921\n"
          ]
        }
      ],
      "source": [
        "history = model.fit(X_train, y_train, validation_split=0.2, epochs=10, batch_size=64)"
      ]
    },
    {
      "cell_type": "code",
      "execution_count": null,
      "metadata": {
        "id": "AepuTCA0WNfE",
        "colab": {
          "base_uri": "https://localhost:8080/",
          "height": 563
        },
        "outputId": "7a9f6617-290f-43cc-b1f5-6fa8abee9326"
      },
      "outputs": [
        {
          "output_type": "execute_result",
          "data": {
            "text/plain": [
              "<matplotlib.legend.Legend at 0x7fbaa0362490>"
            ]
          },
          "metadata": {},
          "execution_count": 47
        },
        {
          "output_type": "display_data",
          "data": {
            "text/plain": [
              "<Figure size 432x288 with 1 Axes>"
            ],
            "image/png": "[encoded data removed]"
          },
          "metadata": {
            "needs_background": "light"
          }
        },
        {
          "output_type": "display_data",
          "data": {
            "text/plain": [
              "<Figure size 432x288 with 1 Axes>"
            ],
            "image/png": "[encoded data removed]"
          },
          "metadata": {
            "needs_background": "light"
          }
        }
      ],
      "source": [
        "acc,  val_acc  = history.history['accuracy'], history.history['val_accuracy']\n",
        "loss, val_loss = history.history['loss'], history.history['val_loss']\n",
        "epochs = range(len(acc))\n",
        "\n",
        "plt.plot(epochs, acc, 'b', label='Eğitim')\n",
        "plt.plot(epochs, val_acc, 'r', label='Validasyon')\n",
        "plt.title('Eğitim ve Validasyon doğruluk değerleri(accuracy)')\n",
        "plt.legend()\n",
        "\n",
        "plt.figure()\n",
        "\n",
        "plt.plot(epochs, loss, 'b', label='Eğitim')\n",
        "plt.plot(epochs, val_loss, 'r', label='Validasyon')\n",
        "plt.title('Eğitim ve validasyon kayıp(loss')\n",
        "plt.legend()\n"
      ]
    },
    {
      "cell_type": "markdown",
      "metadata": {
        "id": "x3WEUdfV3mfy"
      },
      "source": [
        "**Test**"
      ]
    },
    {
      "cell_type": "markdown",
      "metadata": {
        "id": "uuudoRsV9AN4"
      },
      "source": [
        "Tahmin yapılması"
      ]
    },
    {
      "cell_type": "code",
      "execution_count": null,
      "metadata": {
        "id": "XbkW_axm8zlg",
        "colab": {
          "base_uri": "https://localhost:8080/"
        },
        "outputId": "4aa9908d-17c4-43a7-c614-1531e4175086"
      },
      "outputs": [
        {
          "output_type": "stream",
          "name": "stdout",
          "text": [
            "351/351 [==============================] - 157s 445ms/step\n"
          ]
        }
      ],
      "source": [
        "# Tahmin\n",
        "y_pred = model.predict(X_test)\n",
        "y_pred = np.round(y_pred).astype(int)"
      ]
    },
    {
      "cell_type": "markdown",
      "metadata": {
        "id": "x0lGrKhc9CbY"
      },
      "source": [
        "Doğruluk değeri ve karmaşıklık matrisi"
      ]
    },
    {
      "cell_type": "code",
      "source": [
        "# Accuracy\n",
        "accuracy = accuracy_score(y_test,y_pred)\n",
        "print('Test Verisi doğruluk değeri: %.1f'%(accuracy*100))\n",
        "\n",
        "# Confusion Matrix\n",
        "disp = ConfusionMatrixDisplay(confusion_matrix(y_test, y_pred))\n",
        "disp.plot()\n",
        "plt.show()"
      ],
      "metadata": {
        "colab": {
          "base_uri": "https://localhost:8080/",
          "height": 297
        },
        "id": "Wc8XVAy1shlY",
        "outputId": "d6c08bf3-bf0c-4be9-c0e9-e3eb19121a29"
      },
      "execution_count": null,
      "outputs": [
        {
          "output_type": "stream",
          "name": "stdout",
          "text": [
            "Test Verisi doğruluk değeri: 99.2\n"
          ]
        },
        {
          "output_type": "display_data",
          "data": {
            "text/plain": [
              "<Figure size 432x288 with 2 Axes>"
            ],
            "image/png": "[encoded data removed]"
          },
          "metadata": {
            "needs_background": "light"
          }
        }
      ]
    },
    {
      "cell_type": "code",
      "source": [
        "print(classification_report(y_test, y_pred, digits=3))"
      ],
      "metadata": {
        "colab": {
          "base_uri": "https://localhost:8080/"
        },
        "id": "aphANc4Ssoqk",
        "outputId": "3933b51f-2eaa-4859-c22c-21c80f3237e1"
      },
      "execution_count": null,
      "outputs": [
        {
          "output_type": "stream",
          "name": "stdout",
          "text": [
            "              precision    recall  f1-score   support\n",
            "\n",
            "           0      0.988     0.996     0.992      5773\n",
            "           1      0.996     0.987     0.992      5452\n",
            "\n",
            "    accuracy                          0.992     11225\n",
            "   macro avg      0.992     0.992     0.992     11225\n",
            "weighted avg      0.992     0.992     0.992     11225\n",
            "\n"
          ]
        }
      ]
    }
  ],
  "metadata": {
    "colab": {
      "provenance": []
    },
    "kernelspec": {
      "display_name": "Python 3",
      "name": "python3"
    },
    "language_info": {
      "name": "python"
    }
  },
  "nbformat": 4,
  "nbformat_minor": 0
}